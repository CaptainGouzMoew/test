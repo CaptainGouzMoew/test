{
 "cells": [
  {
   "cell_type": "code",
   "execution_count": 1,
   "id": "641e5536",
   "metadata": {
    "scrolled": true
   },
   "outputs": [
    {
     "name": "stdout",
     "output_type": "stream",
     "text": [
      "                 Generalized Linear Model Regression Results                  \n",
      "==============================================================================\n",
      "Dep. Variable:                  PM2ov   No. Observations:                81337\n",
      "Model:                            GLM   Df Residuals:                    81314\n",
      "Model Family:                Binomial   Df Model:                           22\n",
      "Link Function:                  Logit   Scale:                          1.0000\n",
      "Method:                          IRLS   Log-Likelihood:                -47729.\n",
      "Date:                Mon, 11 Sep 2023   Deviance:                       95458.\n",
      "Time:                        15:09:25   Pearson chi2:                 8.15e+04\n",
      "No. Iterations:                     7   Pseudo R-squ. (CS):             0.1896\n",
      "Covariance Type:            nonrobust                                         \n",
      "========================================================================================\n",
      "                           coef    std err          z      P>|z|      [0.025      0.975]\n",
      "----------------------------------------------------------------------------------------\n",
      "Intercept               -0.1709      0.008    -21.258      0.000      -0.187      -0.155\n",
      "keika_max                0.0083      0.008      1.002      0.316      -0.008       0.025\n",
      "total_buy               -0.0039      0.009     -0.457      0.648      -0.021       0.013\n",
      "TIRE                     0.1729      0.009     18.986      0.000       0.155       0.191\n",
      "BATTERY                  0.1961      0.008     23.116      0.000       0.180       0.213\n",
      "visit_rate               0.8924      0.010     90.401      0.000       0.873       0.912\n",
      "mp                       0.0915      0.008     11.609      0.000       0.076       0.107\n",
      "MH_ID                    0.0285      0.009      3.306      0.001       0.012       0.045\n",
      "chat                     0.0591      0.009      6.573      0.000       0.041       0.077\n",
      "CR                    6.401e-17   4.88e-18     13.108      0.000    5.44e-17    7.36e-17\n",
      "total_satisfaction       0.0452      0.008      5.743      0.000       0.030       0.061\n",
      "ew_num                   0.0547      0.008      6.862      0.000       0.039       0.070\n",
      "coupon_use               0.0235      0.009      2.620      0.009       0.006       0.041\n",
      "SA_select                0.0140      0.009      1.519      0.129      -0.004       0.032\n",
      "app_reserve_mean         0.0394      0.009      4.154      0.000       0.021       0.058\n",
      "estimate_cost            0.0058      0.009      0.619      0.536      -0.012       0.024\n",
      "view_product_detail      0.0302      0.011      2.709      0.007       0.008       0.052\n",
      "view_test_drive          0.0086      0.010      0.870      0.385      -0.011       0.028\n",
      "notif_v_spa              0.0182      0.008      2.324      0.020       0.003       0.034\n",
      "notif_vpi               -0.0134      0.008     -1.723      0.085      -0.029       0.002\n",
      "notif_vpm               -0.0631      0.009     -7.054      0.000      -0.081      -0.046\n",
      "SA_cont                  0.2153      0.008     27.314      0.000       0.200       0.231\n",
      "visit_rate:keika_max    -0.0873      0.009     -9.614      0.000      -0.105      -0.069\n",
      "SA_select:SA_cont        0.0191      0.008      2.458      0.014       0.004       0.034\n",
      "========================================================================================\n"
     ]
    }
   ],
   "source": [
    "import pandas as pd\n",
    "import numpy as np\n",
    "import statsmodels.api as sm\n",
    "import matplotlib.pyplot as plt\n",
    "\n",
    "\n",
    "model_path = r\"customer_engagement_index_model.pkl\"\n",
    "dataset_all = r\"D:\\Software\\temp\\CeDX\\data/output\\dataset_all.csv\"\n",
    "\n",
    "# load the saved model from file\n",
    "model = sm.load(model_path)\n",
    "print(model.summary())"
   ]
  },
  {
   "cell_type": "code",
   "execution_count": 3,
   "id": "7c4905ef",
   "metadata": {},
   "outputs": [
    {
     "name": "stdout",
     "output_type": "stream",
     "text": [
      "4         0.198863\n",
      "5         0.031955\n",
      "6         0.359868\n",
      "10        0.848438\n",
      "12        0.360582\n",
      "            ...   \n",
      "126502    0.103812\n",
      "126503    0.222507\n",
      "126504    0.431709\n",
      "126505    0.487875\n",
      "126506    0.455626\n",
      "Length: 81337, dtype: float64\n"
     ]
    }
   ],
   "source": [
    "print(model.fittedvalues)"
   ]
  },
  {
   "cell_type": "code",
   "execution_count": 2,
   "id": "bcf4a82b",
   "metadata": {},
   "outputs": [
    {
     "data": {
      "image/png": "[encoded data removed]",
      "text/plain": [
       "<Figure size 432x288 with 1 Axes>"
      ]
     },
     "metadata": {
      "needs_background": "light"
     },
     "output_type": "display_data"
    }
   ],
   "source": [
    "import seaborn as sns\n",
    "\n",
    "sns.set(style='whitegrid')\n",
    "\n",
    "hist = sns.histplot(model.fittedvalues)\n",
    "hist.set_ylabel(\"Frequency\", fontsize = 15)\n",
    "fig = hist.get_figure()\n",
    "fig.savefig(\"fitted_values_histogram.png\") "
   ]
  },
  {
   "cell_type": "code",
   "execution_count": 28,
   "id": "96b7ae47",
   "metadata": {},
   "outputs": [
    {
     "name": "stdout",
     "output_type": "stream",
     "text": [
      "  category          data\n",
      "0      0-9  2.325442e-08\n",
      "1    10-19  8.254951e-08\n",
      "2    20-29  2.076937e-07\n",
      "3    30-39  3.640451e-07\n",
      "4    40-49  4.646339e-07\n",
      "5    50-59  3.694367e-07\n",
      "6    60-69  9.501736e-07\n",
      "7    70-79  1.202060e-06\n",
      "8    80-89  4.569074e-07\n",
      "9    90-99  8.554542e-08\n"
     ]
    },
    {
     "data": {
      "image/png": "[encoded data removed]",
      "text/plain": [
       "<Figure size 432x288 with 1 Axes>"
      ]
     },
     "metadata": {},
     "output_type": "display_data"
    }
   ],
   "source": [
    "df_full = pd.read_csv(r\"D:\\HieuNV\\Cedx\\20230818\\data\\data\\output\\dataset_all_full_columns.csv\")\n",
    "PM = df_full['PM'].values\n",
    "\n",
    "data = model.fittedvalues\n",
    "\n",
    "# Define a function to group the data into categories\n",
    "def assign_category(x):\n",
    "    x = x*100\n",
    "    if x < 10:\n",
    "        return \"0-9\"\n",
    "    elif x < 20:\n",
    "        return \"10-19\"\n",
    "    elif x < 30:\n",
    "        return \"20-29\"\n",
    "    elif x < 40:\n",
    "        return \"30-39\"\n",
    "    elif x < 50:\n",
    "        return \"40-49\"\n",
    "    elif x < 60:\n",
    "        return \"50-59\"\n",
    "    elif x < 70:\n",
    "        return \"60-69\"\n",
    "    elif x < 80:\n",
    "        return \"70-79\"\n",
    "    elif x < 90:\n",
    "        return \"80-89\"\n",
    "    else:\n",
    "        return \"90-99\"\n",
    "sns.set(style='whitegrid')\n",
    "categories = [assign_category(x) for x in data]\n",
    "\n",
    "# Create a data frame with the data and categories\n",
    "df_a = pd.DataFrame({\"data\": data, \"category\": categories})\n",
    "#print(df_a.groupby('category').count())\n",
    "df_a[\"data\"] = df_a[\"data\"] / 10**10\n",
    "sum_PM = df_a.groupby('category')['data'].sum().reset_index()\n",
    "print(sum_PM)\n",
    "\n",
    "# Draw the boxplots using Seaborn\n",
    "ngu = sns.boxplot(x=\"category\", y=\"data\", data=df_a, order=[\"0-9\", \"10-19\", \"20-29\", \"30-39\", \"40-49\", \"50-59\", \"60-69\", \"70-79\", \"80-89\", \"90-99\"])\n",
    "\n",
    "# Add the average values to each boxplot\n",
    "#averages = df_a.groupby(\"category\")[\"data\"].mean().values\n",
    "#ngu = sns.scatterplot(x=np.arange(len(averages)), y=averages, marker=\"X\", color=\"black\", s=100)\n",
    "\n",
    "# Connect the average values with a line\n",
    "#ngu = sns.lineplot(x=np.arange(len(averages)), y=averages, color=\"black\")\n",
    "\n",
    "# Get the Figure object that contains the plot\n",
    "ngu.set_ylabel(\"PM\", fontsize = 15)\n",
    "ngu.set_xlabel(\"Customer engagement index\", fontsize = 15)\n",
    "\n",
    "fig = ngu.get_figure()\n",
    "\n",
    "# Save the plot to a file\n",
    "fig.savefig(\"lineplot.png\")"
   ]
  },
  {
   "cell_type": "code",
   "execution_count": 5,
   "id": "55d21937",
   "metadata": {},
   "outputs": [],
   "source": [
    "def sigmoid(x):\n",
    " return 1/(1 + np.exp(-x))"
   ]
  },
  {
   "cell_type": "code",
   "execution_count": 6,
   "id": "f16a3df8",
   "metadata": {},
   "outputs": [
    {
     "name": "stdout",
     "output_type": "stream",
     "text": [
      "[0.84292655 1.00836686 0.9960832  1.18874883 1.21670669 2.44099555\n",
      " 1.09577037 1.02891315 1.06090979 1.         1.04620515 1.05624102\n",
      " 1.02374782 1.01406682 1.04015232 1.00577341 1.03068423 1.00864648\n",
      " 1.01835479 0.98664596 0.93885267 1.24028505 0.9164311  1.01929891]\n"
     ]
    }
   ],
   "source": [
    "cof = model.params\n",
    "print(np.exp(cof.values))"
   ]
  },
  {
   "cell_type": "code",
   "execution_count": 7,
   "id": "541cfe83",
   "metadata": {},
   "outputs": [
    {
     "name": "stdout",
     "output_type": "stream",
     "text": [
      "               Variables  Coefficient     Odds\n",
      "0              Intercept     -0.17088  0.84293\n",
      "1             visit_rate      0.89241  2.44100\n",
      "2                SA_cont      0.21534  1.24029\n",
      "3                BATTERY      0.19615  1.21671\n",
      "4                   TIRE      0.17290  1.18875\n",
      "5                     mp      0.09146  1.09577\n",
      "6                   chat      0.05913  1.06091\n",
      "7                 ew_num      0.05472  1.05624\n",
      "8     total_satisfaction      0.04517  1.04621\n",
      "9       app_reserve_mean      0.03937  1.04015\n",
      "10   view_product_detail      0.03022  1.03068\n",
      "11                 MH_ID      0.02850  1.02891\n",
      "12            coupon_use      0.02347  1.02375\n",
      "13     SA_select:SA_cont      0.01912  1.01930\n",
      "14           notif_v_spa      0.01819  1.01835\n",
      "15             SA_select      0.01397  1.01407\n",
      "16       view_test_drive      0.00861  1.00865\n",
      "17             keika_max      0.00833  1.00837\n",
      "18         estimate_cost      0.00576  1.00577\n",
      "19                    CR      0.00000  1.00000\n",
      "20             total_buy     -0.00392  0.99608\n",
      "21             notif_vpi     -0.01344  0.98665\n",
      "22             notif_vpm     -0.06310  0.93885\n",
      "23  visit_rate:keika_max     -0.08727  0.91643\n"
     ]
    }
   ],
   "source": [
    "df = pd.DataFrame({'Variables' : cof.index, \"Coefficient\" : np.round(cof.values, 5), \"Odds\" : np.round(np.exp(cof.values), 5), \"Coefficient2\" : np.round(cof.values, 2)})\n",
    "df_intercept = df.iloc[[0]]\n",
    "df_rest = df.iloc[1:, :].sort_values('Coefficient', ascending=False)\n",
    "df = pd.concat([df_intercept, df_rest], ignore_index=True, axis=0)\n",
    "mask = df['Coefficient2'].isin([0.00, -0.00, 0.01, -0.01])\n",
    "#df = df[~mask]\n",
    "df = df.drop(columns=['Coefficient2'], axis=1)\n",
    "print(df)"
   ]
  },
  {
   "cell_type": "code",
   "execution_count": 6,
   "id": "ec29684a",
   "metadata": {},
   "outputs": [
    {
     "name": "stdout",
     "output_type": "stream",
     "text": [
      "{'Intercept': 0.15874, 'visit_rate': 1.04088, 'visit_rate:keika_max': 0.33679, 'BATTERY': 0.17353, 'total_buy': 0.17206, 'SA_cont': 0.14237, 'mp': 0.11297, 'TIRE': 0.11093, 'MH_ID': 0.08717, 'app_reserve_mean': 0.08498, 'ew_num': 0.07012, 'total_satisfaction': 0.03896, 'chat': 0.03561, 'view_product_detail': 0.01568, 'coupon_use': 0.00855, 'notif_v_spa': 0.00804, 'notif_vpm': 0.00181, 'notif_vpi': 0.00132, 'CR': -0.0034, 'SA_select:SA_cont': -0.00456, 'estimate_cost': -0.00976, 'view_test_drive': -0.01265, 'SA_select': -0.05141, 'keika_max': -0.23115}\n"
     ]
    }
   ],
   "source": [
    "df_datasetall = pd.read_csv(dataset_all)\n",
    "beta_dict = df.set_index('Variables')['Coefficient'].to_dict()\n",
    "print(beta_dict)"
   ]
  },
  {
   "cell_type": "code",
   "execution_count": 7,
   "id": "2287e1f8",
   "metadata": {},
   "outputs": [
    {
     "name": "stdout",
     "output_type": "stream",
     "text": [
      "visit_rate\n",
      "visit_rate:keika_max\n",
      "['visit_rate', 'keika_max']\n",
      "BATTERY\n",
      "total_buy\n",
      "SA_cont\n",
      "mp\n",
      "TIRE\n",
      "MH_ID\n",
      "app_reserve_mean\n",
      "ew_num\n",
      "total_satisfaction\n",
      "chat\n",
      "view_product_detail\n",
      "coupon_use\n",
      "notif_v_spa\n",
      "notif_vpm\n",
      "notif_vpi\n",
      "CR\n",
      "SA_select:SA_cont\n",
      "['SA_select', 'SA_cont']\n",
      "estimate_cost\n",
      "view_test_drive\n",
      "SA_select\n",
      "keika_max\n",
      "       keika_max  total_buy  TIRE  BATTERY  visit_rate  SA_cont   mp  MH_ID  \\\n",
      "0              5          1     0        0        60.0      1.0  0.0    1.0   \n",
      "1              5          1     0        0        80.0      1.0  0.0    1.0   \n",
      "2              3          1     0        2       100.0      0.0  0.0    1.0   \n",
      "3              3          1     0        0       100.0      0.0  0.0    1.0   \n",
      "4              3          1     0        0       100.0      1.0  0.0    0.0   \n",
      "...          ...        ...   ...      ...         ...      ...  ...    ...   \n",
      "80266          5          1     0        0        80.0      0.0  0.0    0.0   \n",
      "80267          5          1     2        1        80.0      0.0  0.0    0.0   \n",
      "80268          5          1     0        0        60.0      0.0  0.0    0.0   \n",
      "80269          5          1     0        0        60.0      1.0  0.0    0.0   \n",
      "80270          5          1     0        0        80.0      0.0  0.0    0.0   \n",
      "\n",
      "       chat   CR  ...  app_reserve_mean  estimate_cost  view_product_detail  \\\n",
      "0       1.0  0.0  ...               1.0            0.0                  0.0   \n",
      "1       0.0  0.0  ...               0.0            0.0                  0.0   \n",
      "2       0.0  0.0  ...               1.0            0.0                  0.0   \n",
      "3       1.0  0.0  ...               1.0            0.0                  0.0   \n",
      "4       0.0  0.0  ...               0.0            0.0                  0.0   \n",
      "...     ...  ...  ...               ...            ...                  ...   \n",
      "80266   0.0  0.0  ...               0.0            0.0                  0.0   \n",
      "80267   0.0  0.0  ...               0.0            0.0                  0.0   \n",
      "80268   0.0  0.0  ...               0.0            0.0                  0.0   \n",
      "80269   0.0  0.0  ...               0.0            0.0                  0.0   \n",
      "80270   0.0  0.0  ...               0.0            0.0                  0.0   \n",
      "\n",
      "       view_test_drive  notif_v_spa  notif_vpi  notif_vpm  PM2ov        exp  \\\n",
      "0                  0.0          0.0        0.0        0.0    0.0  162.95901   \n",
      "1                  0.0          0.0        0.0        0.0    1.0  217.78059   \n",
      "2                  0.0          0.0        0.0        0.0    1.0  205.54183   \n",
      "3                  0.0          0.0        0.0        0.0    1.0  205.26934   \n",
      "4                  0.0          0.0        0.0        0.0    0.0  205.25536   \n",
      "...                ...          ...        ...        ...    ...        ...   \n",
      "80266              0.0          0.0        0.0        0.0    0.0  217.16145   \n",
      "80267              0.0          0.0        0.0        0.0    1.0  217.55684   \n",
      "80268              0.0          0.0        0.0        0.0    0.0  162.66485   \n",
      "80269              0.0          0.0        0.0        0.0    0.0  162.80722   \n",
      "80270              0.0          0.0        0.0        0.0    1.0  217.16145   \n",
      "\n",
      "         y  \n",
      "0      1.0  \n",
      "1      1.0  \n",
      "2      1.0  \n",
      "3      1.0  \n",
      "4      1.0  \n",
      "...    ...  \n",
      "80266  1.0  \n",
      "80267  1.0  \n",
      "80268  1.0  \n",
      "80269  1.0  \n",
      "80270  1.0  \n",
      "\n",
      "[80271 rows x 24 columns]\n"
     ]
    }
   ],
   "source": [
    "df_dsa = df_datasetall.copy()\n",
    "#df_dsa = df_dsa.drop(columns=['PM2ov'], axis=1)\n",
    "df_dsa['exp'] = beta_dict['Intercept']\n",
    "\n",
    "for i in df['Variables'].values.tolist():\n",
    "    if i != 'Intercept':\n",
    "        print(i)\n",
    "        if ':' in i:\n",
    "            j = i.split(':')\n",
    "            print(j)\n",
    "            df_dsa['exp'] += df_dsa[j[0]] * df_dsa[j[1]] * beta_dict[i]\n",
    "        else:\n",
    "            df_dsa['exp'] += df_dsa[i] * beta_dict[i]\n",
    "\n",
    "df_dsa['y'] = sigmoid(df_dsa['exp'].values)\n",
    "df_dsa.to_excel(r\"D:\\HieuNV\\Cedx\\20230818\\data\\data\\output\\dataset_all_sigmoided.xlsx\", index=False)\n",
    "print(df_dsa)\n"
   ]
  },
  {
   "cell_type": "code",
   "execution_count": null,
   "id": "15544363",
   "metadata": {},
   "outputs": [],
   "source": []
  }
 ],
 "metadata": {
  "kernelspec": {
   "display_name": "Python 3 (ipykernel)",
   "language": "python",
   "name": "python3"
  },
  "language_info": {
   "codemirror_mode": {
    "name": "ipython",
    "version": 3
   },
   "file_extension": ".py",
   "mimetype": "text/x-python",
   "name": "python",
   "nbconvert_exporter": "python",
   "pygments_lexer": "ipython3",
   "version": "3.10.9"
  }
 },
 "nbformat": 4,
 "nbformat_minor": 5
}
